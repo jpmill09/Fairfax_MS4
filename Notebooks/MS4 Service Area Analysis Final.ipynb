{
 "cells": [
  {
   "cell_type": "markdown",
   "metadata": {},
   "source": [
    "# <h1><center>Fairfax County MS4 Analysis Dashboard</center></h1>"
   ]
  },
  {
   "cell_type": "markdown",
   "metadata": {},
   "source": [
    "<center>A simple dashboard to evaluate the MS4 Service Area and annual redelineations.</center>"
   ]
  },
  {
   "cell_type": "markdown",
   "metadata": {},
   "source": [
    "# Table of Contents\n",
    "\n",
    "* [Get Data](#Get-Data)\n",
    "* [Spreadsheets](#Spreadsheets)\n",
    "    * [All metric data](#All-metric-data)\n",
    "    * [Summmary statistics for all drainage areas](#Summmary-statistics-for-all-drainage-areas)\n",
    "    * [Summary Statistics by Maintenance Responsibility](#Summary-Statistics-by-Maintenance-Responsibility)\n",
    "* [Interactive Mapping](#Interactive-Mapping)\n",
    "* [Static Advanced Figures](#Static-Advanced-Figures)\n",
    "* [Interactive Figures](#Interactive-Figures)\n",
    "    * [Histogram of ROW and Easement Data by Maintenance Responsibility](#Histogram-of-ROW-and-Easement-Data-by-Maintenance-Responsibility)\n",
    "    * [Scatterplot for all Metrics](#Scatterplot-for-All-Metrics)\n",
    "    * [Histogram for all Metrics](#Histogram-for-all-Metrics)"
   ]
  },
  {
   "cell_type": "code",
   "execution_count": 1,
   "metadata": {},
   "outputs": [],
   "source": [
    "# Import Packages\n",
    "import sys, os\n",
    "import pandas as pd\n",
    "import geopandas as gpd\n",
    "import seaborn as sns\n",
    "import numpy as np\n",
    "import matplotlib.pyplot as plt\n",
    "import math\n",
    "import json\n",
    "import plotly.graph_objects as go\n",
    "import plotly.express as px\n",
    "import qgrid\n",
    "from plotly.offline import iplot\n",
    "from scipy import stats\n",
    "from ipyleaflet import (Map, GeoData, basemaps, WidgetControl, GeoJSON,\n",
    " LayersControl, Icon, Marker,basemap_to_tiles, Choropleth,\n",
    " MarkerCluster, Heatmap,SearchControl, \n",
    " FullScreenControl, LayerGroup, LegendControl)\n",
    "from ipywidgets import Text, HTML, widgets, interactive, HBox, VBox\n",
    "from branca.colormap import linear\n",
    "%matplotlib inline"
   ]
  },
  {
   "cell_type": "markdown",
   "metadata": {},
   "source": [
    "## Get Data"
   ]
  },
  {
   "cell_type": "code",
   "execution_count": 2,
   "metadata": {},
   "outputs": [
    {
     "data": {
      "text/html": [
       "<div>\n",
       "<style scoped>\n",
       "    .dataframe tbody tr th:only-of-type {\n",
       "        vertical-align: middle;\n",
       "    }\n",
       "\n",
       "    .dataframe tbody tr th {\n",
       "        vertical-align: top;\n",
       "    }\n",
       "\n",
       "    .dataframe thead th {\n",
       "        text-align: right;\n",
       "    }\n",
       "</style>\n",
       "<table border=\"1\" class=\"dataframe\">\n",
       "  <thead>\n",
       "    <tr style=\"text-align: right;\">\n",
       "      <th></th>\n",
       "      <th>STORMNET_ID</th>\n",
       "      <th>Owner</th>\n",
       "      <th>Tot_Acres</th>\n",
       "      <th>Imp_Acres</th>\n",
       "      <th>ROW_Acres</th>\n",
       "      <th>Easement_Acres</th>\n",
       "      <th>Conveyance_Len_FT</th>\n",
       "      <th>STW_Conveyance_Len_FT</th>\n",
       "      <th>row_convey_length_ft</th>\n",
       "      <th>BMP_Per_DA</th>\n",
       "      <th>VDOT_BMP_Count</th>\n",
       "      <th>Treated_Acres</th>\n",
       "      <th>Inlets</th>\n",
       "      <th>Outlets</th>\n",
       "      <th>Buildings</th>\n",
       "      <th>County_Area</th>\n",
       "      <th>County_Area_Imp</th>\n",
       "      <th>Percent_STW_Easement</th>\n",
       "      <th>Percent_ROW</th>\n",
       "      <th>Percent_Treated</th>\n",
       "    </tr>\n",
       "  </thead>\n",
       "  <tbody>\n",
       "    <tr>\n",
       "      <th>0</th>\n",
       "      <td>STMN0742051206</td>\n",
       "      <td>Unknown</td>\n",
       "      <td>62.153739</td>\n",
       "      <td>3.500562</td>\n",
       "      <td>0.124307</td>\n",
       "      <td>22.232392</td>\n",
       "      <td>3829.77</td>\n",
       "      <td>450.09</td>\n",
       "      <td>0.00</td>\n",
       "      <td>0</td>\n",
       "      <td>0</td>\n",
       "      <td>0.000000</td>\n",
       "      <td>3</td>\n",
       "      <td>2</td>\n",
       "      <td>0</td>\n",
       "      <td>0.000000</td>\n",
       "      <td>0.000000</td>\n",
       "      <td>35.77</td>\n",
       "      <td>0.20</td>\n",
       "      <td>0.000000</td>\n",
       "    </tr>\n",
       "    <tr>\n",
       "      <th>1</th>\n",
       "      <td>STMN0354516624</td>\n",
       "      <td>FFX</td>\n",
       "      <td>148.212825</td>\n",
       "      <td>36.421364</td>\n",
       "      <td>13.887542</td>\n",
       "      <td>21.061042</td>\n",
       "      <td>18422.03</td>\n",
       "      <td>10259.68</td>\n",
       "      <td>4010.70</td>\n",
       "      <td>6</td>\n",
       "      <td>0</td>\n",
       "      <td>31.178319</td>\n",
       "      <td>135</td>\n",
       "      <td>22</td>\n",
       "      <td>0</td>\n",
       "      <td>0.000000</td>\n",
       "      <td>0.000000</td>\n",
       "      <td>14.21</td>\n",
       "      <td>9.37</td>\n",
       "      <td>21.036182</td>\n",
       "    </tr>\n",
       "    <tr>\n",
       "      <th>2</th>\n",
       "      <td>STMN1073502097</td>\n",
       "      <td>Private</td>\n",
       "      <td>123.758855</td>\n",
       "      <td>52.957626</td>\n",
       "      <td>8.675496</td>\n",
       "      <td>16.101027</td>\n",
       "      <td>24254.45</td>\n",
       "      <td>16517.31</td>\n",
       "      <td>3283.67</td>\n",
       "      <td>6</td>\n",
       "      <td>0</td>\n",
       "      <td>37.714782</td>\n",
       "      <td>201</td>\n",
       "      <td>20</td>\n",
       "      <td>1</td>\n",
       "      <td>25.759317</td>\n",
       "      <td>4.884700</td>\n",
       "      <td>13.01</td>\n",
       "      <td>7.01</td>\n",
       "      <td>30.474411</td>\n",
       "    </tr>\n",
       "    <tr>\n",
       "      <th>3</th>\n",
       "      <td>STMN1122517951</td>\n",
       "      <td>VPDES</td>\n",
       "      <td>187.368768</td>\n",
       "      <td>15.702610</td>\n",
       "      <td>0.000000</td>\n",
       "      <td>15.926345</td>\n",
       "      <td>1576.60</td>\n",
       "      <td>1356.70</td>\n",
       "      <td>0.00</td>\n",
       "      <td>3</td>\n",
       "      <td>1</td>\n",
       "      <td>15.860000</td>\n",
       "      <td>0</td>\n",
       "      <td>2</td>\n",
       "      <td>0</td>\n",
       "      <td>0.000000</td>\n",
       "      <td>0.000000</td>\n",
       "      <td>8.50</td>\n",
       "      <td>0.00</td>\n",
       "      <td>8.464591</td>\n",
       "    </tr>\n",
       "    <tr>\n",
       "      <th>4</th>\n",
       "      <td>STMN0252011350</td>\n",
       "      <td>FFX</td>\n",
       "      <td>138.920437</td>\n",
       "      <td>37.482058</td>\n",
       "      <td>12.711220</td>\n",
       "      <td>14.933947</td>\n",
       "      <td>20027.37</td>\n",
       "      <td>13100.59</td>\n",
       "      <td>2641.58</td>\n",
       "      <td>6</td>\n",
       "      <td>0</td>\n",
       "      <td>10.750000</td>\n",
       "      <td>112</td>\n",
       "      <td>21</td>\n",
       "      <td>1</td>\n",
       "      <td>2.427194</td>\n",
       "      <td>1.307602</td>\n",
       "      <td>10.75</td>\n",
       "      <td>9.15</td>\n",
       "      <td>7.738242</td>\n",
       "    </tr>\n",
       "    <tr>\n",
       "      <th>...</th>\n",
       "      <td>...</td>\n",
       "      <td>...</td>\n",
       "      <td>...</td>\n",
       "      <td>...</td>\n",
       "      <td>...</td>\n",
       "      <td>...</td>\n",
       "      <td>...</td>\n",
       "      <td>...</td>\n",
       "      <td>...</td>\n",
       "      <td>...</td>\n",
       "      <td>...</td>\n",
       "      <td>...</td>\n",
       "      <td>...</td>\n",
       "      <td>...</td>\n",
       "      <td>...</td>\n",
       "      <td>...</td>\n",
       "      <td>...</td>\n",
       "      <td>...</td>\n",
       "      <td>...</td>\n",
       "      <td>...</td>\n",
       "    </tr>\n",
       "    <tr>\n",
       "      <th>9939</th>\n",
       "      <td>STMN1194503215</td>\n",
       "      <td>Private</td>\n",
       "      <td>1.592395</td>\n",
       "      <td>0.112850</td>\n",
       "      <td>0.000000</td>\n",
       "      <td>0.000000</td>\n",
       "      <td>434.20</td>\n",
       "      <td>0.00</td>\n",
       "      <td>0.00</td>\n",
       "      <td>0</td>\n",
       "      <td>0</td>\n",
       "      <td>0.000000</td>\n",
       "      <td>1</td>\n",
       "      <td>1</td>\n",
       "      <td>0</td>\n",
       "      <td>0.000000</td>\n",
       "      <td>0.000000</td>\n",
       "      <td>0.00</td>\n",
       "      <td>0.00</td>\n",
       "      <td>0.000000</td>\n",
       "    </tr>\n",
       "    <tr>\n",
       "      <th>9940</th>\n",
       "      <td>STMN1211510855</td>\n",
       "      <td>Private</td>\n",
       "      <td>69.832986</td>\n",
       "      <td>0.380619</td>\n",
       "      <td>0.000000</td>\n",
       "      <td>0.000000</td>\n",
       "      <td>805.81</td>\n",
       "      <td>0.00</td>\n",
       "      <td>0.00</td>\n",
       "      <td>1</td>\n",
       "      <td>0</td>\n",
       "      <td>0.000000</td>\n",
       "      <td>1</td>\n",
       "      <td>1</td>\n",
       "      <td>0</td>\n",
       "      <td>0.000000</td>\n",
       "      <td>0.000000</td>\n",
       "      <td>0.00</td>\n",
       "      <td>0.00</td>\n",
       "      <td>0.000000</td>\n",
       "    </tr>\n",
       "    <tr>\n",
       "      <th>9941</th>\n",
       "      <td>STMN1222510831</td>\n",
       "      <td>Private</td>\n",
       "      <td>48.601710</td>\n",
       "      <td>8.612971</td>\n",
       "      <td>0.000000</td>\n",
       "      <td>0.000000</td>\n",
       "      <td>1492.84</td>\n",
       "      <td>0.00</td>\n",
       "      <td>0.00</td>\n",
       "      <td>0</td>\n",
       "      <td>0</td>\n",
       "      <td>0.000000</td>\n",
       "      <td>10</td>\n",
       "      <td>10</td>\n",
       "      <td>0</td>\n",
       "      <td>0.000000</td>\n",
       "      <td>0.000000</td>\n",
       "      <td>0.00</td>\n",
       "      <td>0.00</td>\n",
       "      <td>0.000000</td>\n",
       "    </tr>\n",
       "    <tr>\n",
       "      <th>9942</th>\n",
       "      <td>STMN1222510834</td>\n",
       "      <td>Private</td>\n",
       "      <td>0.079733</td>\n",
       "      <td>0.010856</td>\n",
       "      <td>0.000000</td>\n",
       "      <td>0.000000</td>\n",
       "      <td>61.35</td>\n",
       "      <td>0.00</td>\n",
       "      <td>0.00</td>\n",
       "      <td>0</td>\n",
       "      <td>0</td>\n",
       "      <td>0.000000</td>\n",
       "      <td>0</td>\n",
       "      <td>0</td>\n",
       "      <td>0</td>\n",
       "      <td>0.000000</td>\n",
       "      <td>0.000000</td>\n",
       "      <td>0.00</td>\n",
       "      <td>0.00</td>\n",
       "      <td>0.000000</td>\n",
       "    </tr>\n",
       "    <tr>\n",
       "      <th>9943</th>\n",
       "      <td>STMN1222510847</td>\n",
       "      <td>Private</td>\n",
       "      <td>1.678039</td>\n",
       "      <td>0.339110</td>\n",
       "      <td>0.000000</td>\n",
       "      <td>0.000000</td>\n",
       "      <td>436.50</td>\n",
       "      <td>0.00</td>\n",
       "      <td>0.00</td>\n",
       "      <td>0</td>\n",
       "      <td>0</td>\n",
       "      <td>0.000000</td>\n",
       "      <td>2</td>\n",
       "      <td>2</td>\n",
       "      <td>0</td>\n",
       "      <td>0.000000</td>\n",
       "      <td>0.000000</td>\n",
       "      <td>0.00</td>\n",
       "      <td>0.00</td>\n",
       "      <td>0.000000</td>\n",
       "    </tr>\n",
       "  </tbody>\n",
       "</table>\n",
       "<p>9944 rows × 20 columns</p>\n",
       "</div>"
      ],
      "text/plain": [
       "         STORMNET_ID    Owner   Tot_Acres  Imp_Acres  ROW_Acres  \\\n",
       "0     STMN0742051206  Unknown   62.153739   3.500562   0.124307   \n",
       "1     STMN0354516624      FFX  148.212825  36.421364  13.887542   \n",
       "2     STMN1073502097  Private  123.758855  52.957626   8.675496   \n",
       "3     STMN1122517951    VPDES  187.368768  15.702610   0.000000   \n",
       "4     STMN0252011350      FFX  138.920437  37.482058  12.711220   \n",
       "...              ...      ...         ...        ...        ...   \n",
       "9939  STMN1194503215  Private    1.592395   0.112850   0.000000   \n",
       "9940  STMN1211510855  Private   69.832986   0.380619   0.000000   \n",
       "9941  STMN1222510831  Private   48.601710   8.612971   0.000000   \n",
       "9942  STMN1222510834  Private    0.079733   0.010856   0.000000   \n",
       "9943  STMN1222510847  Private    1.678039   0.339110   0.000000   \n",
       "\n",
       "      Easement_Acres  Conveyance_Len_FT  STW_Conveyance_Len_FT  \\\n",
       "0          22.232392            3829.77                 450.09   \n",
       "1          21.061042           18422.03               10259.68   \n",
       "2          16.101027           24254.45               16517.31   \n",
       "3          15.926345            1576.60                1356.70   \n",
       "4          14.933947           20027.37               13100.59   \n",
       "...              ...                ...                    ...   \n",
       "9939        0.000000             434.20                   0.00   \n",
       "9940        0.000000             805.81                   0.00   \n",
       "9941        0.000000            1492.84                   0.00   \n",
       "9942        0.000000              61.35                   0.00   \n",
       "9943        0.000000             436.50                   0.00   \n",
       "\n",
       "      row_convey_length_ft  BMP_Per_DA  VDOT_BMP_Count  Treated_Acres  Inlets  \\\n",
       "0                     0.00           0               0       0.000000       3   \n",
       "1                  4010.70           6               0      31.178319     135   \n",
       "2                  3283.67           6               0      37.714782     201   \n",
       "3                     0.00           3               1      15.860000       0   \n",
       "4                  2641.58           6               0      10.750000     112   \n",
       "...                    ...         ...             ...            ...     ...   \n",
       "9939                  0.00           0               0       0.000000       1   \n",
       "9940                  0.00           1               0       0.000000       1   \n",
       "9941                  0.00           0               0       0.000000      10   \n",
       "9942                  0.00           0               0       0.000000       0   \n",
       "9943                  0.00           0               0       0.000000       2   \n",
       "\n",
       "      Outlets  Buildings  County_Area  County_Area_Imp  Percent_STW_Easement  \\\n",
       "0           2          0     0.000000         0.000000                 35.77   \n",
       "1          22          0     0.000000         0.000000                 14.21   \n",
       "2          20          1    25.759317         4.884700                 13.01   \n",
       "3           2          0     0.000000         0.000000                  8.50   \n",
       "4          21          1     2.427194         1.307602                 10.75   \n",
       "...       ...        ...          ...              ...                   ...   \n",
       "9939        1          0     0.000000         0.000000                  0.00   \n",
       "9940        1          0     0.000000         0.000000                  0.00   \n",
       "9941       10          0     0.000000         0.000000                  0.00   \n",
       "9942        0          0     0.000000         0.000000                  0.00   \n",
       "9943        2          0     0.000000         0.000000                  0.00   \n",
       "\n",
       "      Percent_ROW  Percent_Treated  \n",
       "0            0.20         0.000000  \n",
       "1            9.37        21.036182  \n",
       "2            7.01        30.474411  \n",
       "3            0.00         8.464591  \n",
       "4            9.15         7.738242  \n",
       "...           ...              ...  \n",
       "9939         0.00         0.000000  \n",
       "9940         0.00         0.000000  \n",
       "9941         0.00         0.000000  \n",
       "9942         0.00         0.000000  \n",
       "9943         0.00         0.000000  \n",
       "\n",
       "[9944 rows x 20 columns]"
      ]
     },
     "execution_count": 2,
     "metadata": {},
     "output_type": "execute_result"
    }
   ],
   "source": [
    "DA_Data = pd.read_csv(\"Final_Metrics.csv\")\n",
    "DA_Data"
   ]
  },
  {
   "cell_type": "code",
   "execution_count": 25,
   "metadata": {},
   "outputs": [],
   "source": [
    "# Cleanup fields\n",
    "#DA_Data = DA_Data.drop(['OBJECTID_1','Type_AS', 'Type_BR', 'Type_DP', 'Type_FB', 'Type_FM', 'Type_GR', 'Type_MB', 'Type_OS', 'Type_Other', 'Type_PL', 'Type_PP', 'Type_RF', 'Type_RT', 'Type_SF', 'Type_TF', 'Type_TR', 'Type_UG', 'Type_VF', 'Type_VS', 'Type_WL', 'Type_WS', 'Type_WP', 'Shape_Length', 'Shape_Area', 'Sum_DRAINAGE_AREA'], axis=1)\n",
    "#DA_Data = DA_Data.rename(columns={\"index\":\"STORMNET_ID\",\"Count_PerDA\":\"BMP_Per_DA\",\"Sum_TREATED_AREA\":\"Treated_Acres\",\"Pct_Treated\":\"Percent_Treated\",\"Area_AC\":\"Drainage_Area_AC\",\"total_acres\":\"Area_AC\",\"vdot_bmp_count\":\"VDOT_BMP_Count\",\"swe_perc\":\"Percent_STW_Easement\",\"row_perc\":\"Percent_ROW\",\"total_convey_length_ft\":\"Conveyance_Len_FT\",\"swe_convey_length_ft\":\"STW_Conveyance_Len_FT\",\"total_county_acres\":\"County_Acres\",\"imperv_county_acres\":\"Impervious_Acres\"})\n",
    "#DA_Data = DA_Data.loc[:,~DA_Data.columns.duplicated()]"
   ]
  },
  {
   "cell_type": "markdown",
   "metadata": {},
   "source": [
    "View MS4 metric data for all drainage areas. Please note that `maintenance responsibility` has been lumped into five categories: \n",
    "\n",
    "(ex. Loudoun County interconnection -> Other Jurisdiction)\n",
    "\n",
    "- FFX\n",
    "- VDOT\n",
    "- Private\n",
    "- Other Jurisdiction\n",
    "- VDOT/FFX"
   ]
  },
  {
   "cell_type": "code",
   "execution_count": 3,
   "metadata": {},
   "outputs": [],
   "source": [
    "my_dict = {'VDOT':'VDOT','Private':'Private','Loudoun County':'Other Jurisdiction','Unknown':'Private','FFX':'FFX','Other Jurisdiction':'Other Jurisdiction', 'VDOt/FFX':'VDOT/FFX','Town of Vienna':'Other Jurisdiction','WMATA':'Other Jurisdiction','VPDES':'Other Jurisdiction','Arlington County':'Other Jurisdiction', 'City of Alexandria':'Other Jurisdiction','FFX Board of Supervisors':'FFX'}\n",
    "DA_Data = DA_Data.replace({\"Owner\": my_dict})"
   ]
  },
  {
   "cell_type": "markdown",
   "metadata": {},
   "source": [
    "## Spreadsheets"
   ]
  },
  {
   "cell_type": "markdown",
   "metadata": {},
   "source": [
    "### All metric data"
   ]
  },
  {
   "cell_type": "code",
   "execution_count": 7,
   "metadata": {},
   "outputs": [
    {
     "data": {
      "application/vnd.jupyter.widget-view+json": {
       "model_id": "758bd0c0865443cf8e937c748761e373",
       "version_major": 2,
       "version_minor": 0
      },
      "text/plain": [
       "QgridWidget(grid_options={'fullWidthRows': True, 'syncColumnCellResize': True, 'forceFitColumns': False, 'defa…"
      ]
     },
     "metadata": {},
     "output_type": "display_data"
    }
   ],
   "source": [
    "qgrid_DA_Data = qgrid.show_grid(DA_Data, show_toolbar=True, grid_options={'forceFitColumns': False})\n",
    "qgrid_DA_Data"
   ]
  },
  {
   "cell_type": "markdown",
   "metadata": {},
   "source": [
    "### Summmary statistics for all drainage areas"
   ]
  },
  {
   "cell_type": "markdown",
   "metadata": {},
   "source": [
    "* Note that 50% is the same as the median."
   ]
  },
  {
   "cell_type": "code",
   "execution_count": 8,
   "metadata": {},
   "outputs": [
    {
     "data": {
      "application/vnd.jupyter.widget-view+json": {
       "model_id": "0225ef6b695941b1a113ac62c4040b5b",
       "version_major": 2,
       "version_minor": 0
      },
      "text/plain": [
       "QgridWidget(grid_options={'fullWidthRows': True, 'syncColumnCellResize': True, 'forceFitColumns': False, 'defa…"
      ]
     },
     "metadata": {},
     "output_type": "display_data"
    }
   ],
   "source": [
    "Sum_Stats = DA_Data.loc[:, DA_Data.columns != 'STORMNET_ID'].describe().round(2)\n",
    "Sum_Grid = qgrid.show_grid(Sum_Stats, show_toolbar=True, grid_options={'forceFitColumns': False})\n",
    "Sum_Grid                         "
   ]
  },
  {
   "cell_type": "markdown",
   "metadata": {},
   "source": [
    "### Summary Statistics by Maintenance Responsibility"
   ]
  },
  {
   "cell_type": "code",
   "execution_count": 9,
   "metadata": {},
   "outputs": [
    {
     "data": {
      "application/vnd.jupyter.widget-view+json": {
       "model_id": "9c0fe0ba55e243d891fc83bb1e12bf5c",
       "version_major": 2,
       "version_minor": 0
      },
      "text/plain": [
       "QgridWidget(grid_options={'fullWidthRows': True, 'syncColumnCellResize': True, 'forceFitColumns': False, 'defa…"
      ]
     },
     "metadata": {},
     "output_type": "display_data"
    }
   ],
   "source": [
    "Spreadsheet_df = DA_Data.groupby('Owner').describe().unstack(1).reset_index()\n",
    "Spreadsheet_df = Spreadsheet_df.rename(columns={\"level_0\":\"Metric\",\"level_1\":\"Statistic\",\"Owner\":\"Maint\",\"0\":\"Value\"})\n",
    "qgrid_widget = qgrid.show_grid(Spreadsheet_df, show_toolbar=True, grid_options={'forceFitColumns': False})\n",
    "qgrid_widget"
   ]
  },
  {
   "cell_type": "code",
   "execution_count": 10,
   "metadata": {},
   "outputs": [],
   "source": [
    "Spreadsheet_df.to_excel(\"Drainage_Area_Summ_Stats.xlsx\")"
   ]
  },
  {
   "cell_type": "markdown",
   "metadata": {},
   "source": [
    "## Interactive Mapping"
   ]
  },
  {
   "cell_type": "code",
   "execution_count": 11,
   "metadata": {},
   "outputs": [],
   "source": [
    "Drainage_Areas = gpd.read_file(\"All_Drainage_Areas.geojson\", driver=\"GeoJSON\")\n",
    "Drainage_Areas = Drainage_Areas.rename(columns={\"STORMNET_I\":\"STORMNET_ID\"})\n",
    "Drainage_Areas = Drainage_Areas.merge(DA_Data, on='STORMNET_ID')"
   ]
  },
  {
   "cell_type": "code",
   "execution_count": 12,
   "metadata": {},
   "outputs": [],
   "source": [
    "VDOT_DAs = Drainage_Areas[Drainage_Areas.Owner_x == 'VDOT']\n",
    "VDOT_FFX_DAs = Drainage_Areas[Drainage_Areas.Owner_x == 'VDOT/FFX']\n",
    "Private_DAs = Drainage_Areas[Drainage_Areas.Owner_x == 'Private']\n",
    "Other_Jurisdiction_DAs = Drainage_Areas[Drainage_Areas.Owner_x == 'Other_Jurisdiction']\n",
    "FFX_DAs = Drainage_Areas[Drainage_Areas.Owner_x == 'FFX']"
   ]
  },
  {
   "cell_type": "code",
   "execution_count": 14,
   "metadata": {},
   "outputs": [
    {
     "data": {
      "application/vnd.jupyter.widget-view+json": {
       "model_id": "b4822c910faf4b1a9fa23d8e115203c6",
       "version_major": 2,
       "version_minor": 0
      },
      "text/plain": [
       "Map(center=[38.8554638, -77.275734], controls=(ZoomControl(options=['position', 'zoom_in_text', 'zoom_in_title…"
      ]
     },
     "metadata": {},
     "output_type": "display_data"
    }
   ],
   "source": [
    "center = (38.8554638, -77.2757340)\n",
    "m = Map(center=center, zoom=10)\n",
    "\n",
    "geodata_VDOT = GeoData(geo_dataframe = VDOT_DAs,\n",
    "                  style={'color': 'black', 'fillColor': '#eb830c', 'opacity':0.03, 'weight':1.9, 'dashArray':'2', 'fillOpacity':0.6},\n",
    "                         hover_style={'fillColor': '#b08a3e', 'fillOpacity': 0.8},\n",
    "                                      name = 'VDOT')\n",
    "geodata_VDOT_FFX = GeoData(geo_dataframe = VDOT_FFX_DAs,\n",
    "                  style={'color': 'black', 'fillColor': '#f705df', 'opacity':0.03, 'weight':1.9, 'dashArray':'2', 'fillOpacity':0.6},\n",
    "                         hover_style={'fillColor': '#b08a3e', 'fillOpacity': 0.8},\n",
    "                                      name = 'VDOT/FFX')\n",
    "geodata_Private = GeoData(geo_dataframe = Private_DAs,\n",
    "                  style={'color': 'black', 'fillColor': '#053ef7', 'opacity':0.03, 'weight':1.9, 'dashArray':'2', 'fillOpacity':0.6},\n",
    "                         hover_style={'fillColor': '#b08a3e', 'fillOpacity': 0.8},\n",
    "                                      name = 'Private')\n",
    "geodata_Other_Jurisdiction = GeoData(geo_dataframe = Other_Jurisdiction_DAs,\n",
    "                  style={'color': 'black', 'fillColor': '#0c0c0d', 'opacity':0.03, 'weight':1.9, 'dashArray':'2', 'fillOpacity':0.6},\n",
    "                         hover_style={'fillColor': '#b08a3e', 'fillOpacity': 0.8},\n",
    "                                      name = 'Other Jurisdiction')\n",
    "geodata_FFX = GeoData(geo_dataframe = FFX_DAs,\n",
    "                  style={'color': 'black', 'fillColor': '#05f721', 'opacity':0.03, 'weight':1.9, 'dashArray':'2', 'fillOpacity':0.6},\n",
    "                         hover_style={'fillColor': '#b08a3e', 'fillOpacity': 0.8},\n",
    "                                      name = 'FFX')\n",
    "\n",
    "m.add_layer(geodata_VDOT)\n",
    "m.add_layer(geodata_VDOT_FFX)\n",
    "m.add_layer(geodata_Private)\n",
    "m.add_layer(geodata_Other_Jurisdiction)\n",
    "m.add_layer(geodata_FFX)\n",
    "html = HTML('''Hover Over Drainage Areas''')\n",
    "html.layout.margin = '0px 20px 20px 20px'\n",
    "control = WidgetControl(widget=html, position='topright')\n",
    "m.add_control(control)\n",
    "\n",
    "def update_html(feature, **kwargs):\n",
    "    html.value = '''\n",
    "    <h3><b>{}</b></h3>\n",
    "    <h4>Maint: {} </h4> \n",
    "    <h4>Total Acres: {} acres</h4> \n",
    "    <h4>VDOT ROW: {} %</h4>\n",
    "    '''.format(feature['properties']['STORMNET_ID'],\n",
    "               feature['properties']['Owner_x'],\n",
    "               feature['properties']['Tot_Acres'],\n",
    "               feature['properties']['Percent_ROW'])\n",
    "geodata_VDOT.on_hover(update_html)\n",
    "geodata_VDOT_FFX.on_hover(update_html)\n",
    "geodata_Private.on_hover(update_html)\n",
    "geodata_Other_Jurisdiction.on_hover(update_html)\n",
    "geodata_FFX.on_hover(update_html)\n",
    "\n",
    "search = SearchControl(position=\"topleft\", \n",
    "                       url=\n",
    "                       'https://nominatim.openstreetmap.org/search?format=json&q={s}',\n",
    "                       zoom=14,\n",
    "                       property_name='display_name'\n",
    "                      )\n",
    "m.add_control(search)\n",
    "control = FullScreenControl()\n",
    "m.add_control(control)\n",
    "m.add_control(LayersControl())\n",
    "legend = LegendControl({\"VDOT\":\"#eb830c\", \"VDOT/FFX\":\"#f705df\", \"Private\":\"#053ef7\", \"Other Jurisdiction\":\"#0c0c0d\", \"FFX\":\"#05f721\"}, name=\"Legend\", position=\"bottomright\")\n",
    "m.add_control(legend)\n",
    "\n",
    "m"
   ]
  },
  {
   "cell_type": "markdown",
   "metadata": {},
   "source": [
    "## Static Advanced Figures"
   ]
  },
  {
   "cell_type": "code",
   "execution_count": 15,
   "metadata": {},
   "outputs": [
    {
     "data": {
      "image/png": "[encoded data removed]",
      "text/plain": [
       "<Figure size 1080x648 with 1 Axes>"
      ]
     },
     "metadata": {
      "needs_background": "light"
     },
     "output_type": "display_data"
    }
   ],
   "source": [
    "g=sns.displot(DA_Data, x=\"Percent_ROW\", hue=\"Owner\", element=\"step\")\n",
    "g = (g.set_axis_labels(\"Percent ROW\",\"Drainage Area Count\"))\n",
    "g.fig.set_size_inches(15,9)"
   ]
  },
  {
   "cell_type": "code",
   "execution_count": 16,
   "metadata": {},
   "outputs": [],
   "source": [
    "Maint = widgets.Dropdown(\n",
    "    options=list(DA_Data['Owner'].unique()),\n",
    "    value='FFX',\n",
    "    description='Owner:',\n",
    ")\n",
    "\n",
    "# Assign an empty figure widget with two traces\n",
    "trace1 = go.Histogram(x=DA_Data['Percent_ROW'], opacity=0.75, name='Percent_ROW')\n",
    "trace2 = go.Histogram(x=DA_Data['Percent_STW_Easement'], opacity=0.75, name='Percent_STW_Easement')\n",
    "g = go.FigureWidget(data=[trace1, trace2],\n",
    "                    layout=go.Layout(\n",
    "                        title=dict(\n",
    "                            text='ROW and Easement Data'\n",
    "                        ),\n",
    "                        barmode='overlay'\n",
    "                    ))"
   ]
  },
  {
   "cell_type": "code",
   "execution_count": 17,
   "metadata": {},
   "outputs": [],
   "source": [
    "def validate():\n",
    "    if Maint.value in DA_Data['Owner'].unique():\n",
    "        return True\n",
    "    else:\n",
    "        return False"
   ]
  },
  {
   "cell_type": "code",
   "execution_count": 18,
   "metadata": {},
   "outputs": [],
   "source": [
    "def response(change):\n",
    "    if validate():\n",
    "        if Maint.value == 'VDOT':\n",
    "            temp_df = DA_Data.loc[DA_Data['Owner'] == 'VDOT', ['Percent_ROW', 'Percent_STW_Easement']]\n",
    "        elif Maint.value == 'Private':\n",
    "            temp_df = DA_Data.loc[DA_Data['Owner'] == 'Private', ['Percent_ROW', 'Percent_STW_Easement']]\n",
    "        elif Maint.value == 'Other Jurisdiction':\n",
    "            temp_df = DA_Data.loc[DA_Data['Owner'] == 'Other Jurisdiction', ['Percent_ROW', 'Percent_STW_Easement']]\n",
    "        elif Maint.value == 'FFX':\n",
    "            temp_df = DA_Data.loc[DA_Data['Owner'] == 'FFX', ['Percent_ROW', 'Percent_STW_Easement']]\n",
    "        else:\n",
    "            temp_df = DA_Data.loc[DA_Data['Owner'] == 'VDOT/FFX', ['Percent_ROW', 'Percent_STW_Easement']]\n",
    "        x1 = temp_df['Percent_ROW']\n",
    "        x2 = temp_df['Percent_STW_Easement']\n",
    "        with g.batch_update():\n",
    "            g.data[0].x = x1\n",
    "            g.data[1].x = x2\n",
    "            g.layout.barmode = 'overlay'\n",
    "            g.layout.xaxis.title = 'Percent'\n",
    "            g.layout.yaxis.title = 'Number of Drainage Areas'\n",
    "\n",
    "Maint.observe(response, names=\"value\")"
   ]
  },
  {
   "cell_type": "markdown",
   "metadata": {},
   "source": [
    "## Interactive Figures"
   ]
  },
  {
   "cell_type": "markdown",
   "metadata": {},
   "source": [
    "### Histogram of ROW and Easement Data by Maintenance Responsibility"
   ]
  },
  {
   "cell_type": "code",
   "execution_count": 19,
   "metadata": {},
   "outputs": [
    {
     "data": {
      "application/vnd.jupyter.widget-view+json": {
       "model_id": "66c82c233007483e802981623e708069",
       "version_major": 2,
       "version_minor": 0
      },
      "text/plain": [
       "VBox(children=(Dropdown(description='Owner:', index=1, options=('Private', 'FFX', 'Other Jurisdiction', 'VDOT'…"
      ]
     },
     "metadata": {},
     "output_type": "display_data"
    }
   ],
   "source": [
    "widgets.VBox([Maint, g])"
   ]
  },
  {
   "cell_type": "markdown",
   "metadata": {},
   "source": [
    "### Scatterplot for all Metrics"
   ]
  },
  {
   "cell_type": "code",
   "execution_count": 20,
   "metadata": {},
   "outputs": [
    {
     "data": {
      "application/vnd.jupyter.widget-view+json": {
       "model_id": "a7c885f08f0c45268ce4a2ee3300309f",
       "version_major": 2,
       "version_minor": 0
      },
      "text/plain": [
       "VBox(children=(HBox(children=(Dropdown(description='xaxis', options=('BMP_Per_DA', 'Buildings', 'Conveyance_Le…"
      ]
     },
     "metadata": {},
     "output_type": "display_data"
    }
   ],
   "source": [
    "# Map new column to dataframe to add colors by owner\n",
    "col_dict = {'VDOT':'rgb(255,128,0)', 'VDOT/FFX':'rgb(255,0,255)', 'Private':'rgb(0,0,255)', 'Other Jurisdiction':'rgb(32,32,32)', 'FFX':'rgb(0,204,0)'}\n",
    "cols = DA_Data['Owner'].map(col_dict)\n",
    "\n",
    "f = go.FigureWidget(go.Scatter(y = DA_Data['Percent_ROW'],\n",
    "                                x = DA_Data['Percent_ROW'],\n",
    "                                mode = 'markers',\n",
    "                               marker=dict(size=8, color=cols),\n",
    "                              text=DA_Data['Owner']))\n",
    "scatter = f.data[0]\n",
    "N = len(DA_Data)\n",
    "scatter.x = scatter.x + np.random.rand(N)/10 *(DA_Data['Percent_ROW'].max() - DA_Data['Percent_ROW'].min())\n",
    "scatter.y = scatter.y + np.random.rand(N)/10 *(DA_Data['Percent_ROW'].max() - DA_Data['Percent_ROW'].min())\n",
    "scatter.marker.opacity = 0.8\n",
    "\n",
    "def update_axes(xaxis, yaxis):\n",
    "    scatter = f.data[0]\n",
    "    scatter.x = DA_Data[xaxis]\n",
    "    scatter.y = DA_Data[yaxis]\n",
    "    with f.batch_update():\n",
    "        f.layout.xaxis.title = xaxis\n",
    "        f.layout.yaxis.title = yaxis\n",
    "        scatter.x = scatter.x + np.random.rand(N)/10 *(DA_Data[xaxis].max() - DA_Data[xaxis].min())\n",
    "        scatter.y = scatter.y + np.random.rand(N)/10 *(DA_Data[yaxis].max() - DA_Data[yaxis].min())\n",
    "\n",
    "axis_dropdowns = interactive(update_axes, yaxis = DA_Data.select_dtypes('int64').columns | DA_Data.select_dtypes('float64').columns, xaxis = DA_Data.select_dtypes('int64').columns | DA_Data.select_dtypes('float64').columns)\n",
    "\n",
    "\n",
    "# Put everything together\n",
    "VBox((HBox(axis_dropdowns.children),f))\n"
   ]
  },
  {
   "cell_type": "markdown",
   "metadata": {},
   "source": [
    "### Histogram for all Metrics"
   ]
  },
  {
   "cell_type": "code",
   "execution_count": 22,
   "metadata": {},
   "outputs": [],
   "source": [
    "VDOT_Data = DA_Data.loc[DA_Data['Owner'] == 'VDOT']\n",
    "VDOT_FFX_Data = DA_Data.loc[DA_Data['Owner'] == 'VDOT/FFX']\n",
    "Private_Data = DA_Data.loc[DA_Data['Owner'] == 'Private']\n",
    "Other_Jurisdiction_Data = DA_Data.loc[DA_Data['Owner'] == 'Other Jurisdiction']\n",
    "FFX_Data = DA_Data.loc[DA_Data['Owner'] == 'FFX']"
   ]
  },
  {
   "cell_type": "code",
   "execution_count": 23,
   "metadata": {},
   "outputs": [],
   "source": [
    "# Histogram Metrics\n",
    "my_list = list(DA_Data.columns.values.tolist())\n",
    "newlist = my_list[2:]\n",
    "\n",
    "\n",
    "Metric = widgets.Dropdown(\n",
    "    options=newlist,\n",
    "    value='Easement_Acres',\n",
    "    description='Metric:',\n",
    ")\n",
    "\n",
    "# Assign an empty figure widget with five traces\n",
    "trace1 = go.Histogram(x=VDOT_Data['Easement_Acres'], opacity=0.75, name='VDOT')\n",
    "trace2 = go.Histogram(x=VDOT_FFX_Data['Easement_Acres'], opacity=0.75, name='VDOT/FFX')\n",
    "trace3 = go.Histogram(x=Private_Data['Easement_Acres'], opacity=0.75, name='Private')\n",
    "trace4 = go.Histogram(x=Other_Jurisdiction_Data['Easement_Acres'], opacity=0.75, name='Other Jurisdiction')\n",
    "trace5 = go.Histogram(x=FFX_Data['Easement_Acres'], opacity=0.75, name='FFX')\n",
    "h = go.FigureWidget(data=[trace1,trace2,trace3,trace4,trace5],\n",
    "                    layout=go.Layout(\n",
    "                        title=dict(\n",
    "                            text='Metric Histogram'\n",
    "                        ),\n",
    "                        barmode='overlay'\n",
    "                    ))\n",
    "def response(change):\n",
    "    if Metric.value == 'Easement_Acres':\n",
    "        VDOT_df = VDOT_Data['Easement_Acres']\n",
    "        VDOT_FFX_df = VDOT_FFX_Data['Easement_Acres']\n",
    "        Private_df = Private_Data['Easement_Acres']\n",
    "        Other_Jurisdiction_df = Other_Jurisdiction_Data['Easement_Acres']\n",
    "        FFX_df = FFX_Data['Easement_Acres']\n",
    "    elif Metric.value == 'Percent_Treated':\n",
    "        VDOT_df = VDOT_Data['Percent_Treated']\n",
    "        VDOT_FFX_df = VDOT_FFX_Data['Percent_Treated']\n",
    "        Private_df = Private_Data['Percent_Treated']\n",
    "        Other_Jurisdiction_df = Other_Jurisdiction_Data['Percent_Treated']\n",
    "        FFX_df = FFX_Data['Percent_Treated']\n",
    "    elif Metric.value == 'Tot_Acres':\n",
    "        VDOT_df = VDOT_Data['Tot_Acres']\n",
    "        VDOT_FFX_df = VDOT_FFX_Data['Tot_Acres']\n",
    "        Private_df = Private_Data['Tot_Acres']\n",
    "        Other_Jurisdiction_df = Other_Jurisdiction_Data['Tot_Acres']\n",
    "        FFX_df = FFX_Data['Tot_Acres']\n",
    "    elif Metric.value == 'Imp_Acres':\n",
    "        VDOT_df = VDOT_Data['Imp_Acres']\n",
    "        VDOT_FFX_df = VDOT_FFX_Data['Imp_Acres']\n",
    "        Private_df = Private_Data['Imp_Acres']\n",
    "        Other_Jurisdiction_df = Other_Jurisdiction_Data['Imp_Acres']\n",
    "        FFX_df = FFX_Data['Imp_Acres']\n",
    "    elif Metric.value == 'ROW_Acres':\n",
    "        VDOT_df = VDOT_Data['ROW_Acres']\n",
    "        VDOT_FFX_df = VDOT_FFX_Data['ROW_Acres']\n",
    "        Private_df = Private_Data['ROW_Acres']\n",
    "        Other_Jurisdiction_df = Other_Jurisdiction_Data['ROW_Acres']\n",
    "        FFX_df = FFX_Data['ROW_Acres']    \n",
    "    elif Metric.value == 'Percent_STW_Easement':\n",
    "        VDOT_df = VDOT_Data['Percent_STW_Easement']\n",
    "        VDOT_FFX_df = VDOT_FFX_Data['Percent_STW_Easement']\n",
    "        Private_df = Private_Data['Percent_STW_Easement']\n",
    "        Other_Jurisdiction_df = Other_Jurisdiction_Data['Percent_STW_Easement']\n",
    "        FFX_df = FFX_Data['Percent_STW_Easement']      \n",
    "    elif Metric.value == 'Percent_ROW':\n",
    "        VDOT_df = VDOT_Data['Percent_ROW']\n",
    "        VDOT_FFX_df = VDOT_FFX_Data['Percent_ROW']\n",
    "        Private_df = Private_Data['Percent_ROW']\n",
    "        Other_Jurisdiction_df = Other_Jurisdiction_Data['Percent_ROW']\n",
    "        FFX_df = FFX_Data['Percent_ROW']   \n",
    "    elif Metric.value == 'STW_Conveyance_Len_FT':\n",
    "        VDOT_df = VDOT_Data['STW_Conveyance_Len_FT']\n",
    "        VDOT_FFX_df = VDOT_FFX_Data['STW_Conveyance_Len_FT']\n",
    "        Private_df = Private_Data['STW_Conveyance_Len_FT']\n",
    "        Other_Jurisdiction_df = Other_Jurisdiction_Data['STW_Conveyance_Len_FT']\n",
    "        FFX_df = FFX_Data['STW_Conveyance_Len_FT']       \n",
    "    elif Metric.value == 'row_convey_length_ft':\n",
    "        VDOT_df = VDOT_Data['row_convey_length_ft']\n",
    "        VDOT_FFX_df = VDOT_FFX_Data['row_convey_length_ft']\n",
    "        Private_df = Private_Data['row_convey_length_ft']\n",
    "        Other_Jurisdiction_df = Other_Jurisdiction_Data['row_convey_length_ft']\n",
    "        FFX_df = FFX_Data['row_convey_length_ft']      \n",
    "    elif Metric.value == 'Conveyance_Len_FT':\n",
    "        VDOT_df = VDOT_Data['Conveyance_Len_FT']\n",
    "        VDOT_FFX_df = VDOT_FFX_Data['Conveyance_Len_FT']\n",
    "        Private_df = Private_Data['Conveyance_Len_FT']\n",
    "        Other_Jurisdiction_df = Other_Jurisdiction_Data['Conveyance_Len_FT']\n",
    "        FFX_df = FFX_Data['Conveyance_Len_FT']\n",
    "    elif Metric.value == 'BMP_Per_DA':\n",
    "        VDOT_df = VDOT_Data['BMP_Per_DA']\n",
    "        VDOT_FFX_df = VDOT_FFX_Data['BMP_Per_DA']\n",
    "        Private_df = Private_Data['BMP_Per_DA']\n",
    "        Other_Jurisdiction_df = Other_Jurisdiction_Data['BMP_Per_DA']\n",
    "        FFX_df = FFX_Data['BMP_Per_DA']\n",
    "    elif Metric.value == 'VDOT_BMP_Count':\n",
    "        VDOT_df = VDOT_Data['VDOT_BMP_Count']\n",
    "        VDOT_FFX_df = VDOT_FFX_Data['VDOT_BMP_Count']\n",
    "        Private_df = Private_Data['VDOT_BMP_Count']\n",
    "        Other_Jurisdiction_df = Other_Jurisdiction_Data['VDOT_BMP_Count']\n",
    "        FFX_df = FFX_Data['VDOT_BMP_Count']\n",
    "    elif Metric.value == 'Inlets':\n",
    "        VDOT_df = VDOT_Data['Inlets']\n",
    "        VDOT_FFX_df = VDOT_FFX_Data['Inlets']\n",
    "        Private_df = Private_Data['Inlets']\n",
    "        Other_Jurisdiction_df = Other_Jurisdiction_Data['Inlets']\n",
    "        FFX_df = FFX_Data['Inlets']\n",
    "    elif Metric.value == 'Outlets':\n",
    "        VDOT_df = VDOT_Data['Outlets']\n",
    "        VDOT_FFX_df = VDOT_FFX_Data['Outlets']\n",
    "        Private_df = Private_Data['Outlets']\n",
    "        Other_Jurisdiction_df = Other_Jurisdiction_Data['Outlets']\n",
    "        FFX_df = FFX_Data['Outlets']\n",
    "    elif Metric.value == 'Buildings':\n",
    "        VDOT_df = VDOT_Data['Buildings']\n",
    "        VDOT_FFX_df = VDOT_FFX_Data['Buildings']\n",
    "        Private_df = Private_Data['Buildings']\n",
    "        Other_Jurisdiction_df = Other_Jurisdiction_Data['Buildings']\n",
    "        FFX_df = FFX_Data['Buildings']\n",
    "    elif Metric.value == 'County_Area':\n",
    "        VDOT_df = VDOT_Data['County_Area']\n",
    "        VDOT_FFX_df = VDOT_FFX_Data['County_Area']\n",
    "        Private_df = Private_Data['County_Area']\n",
    "        Other_Jurisdiction_df = Other_Jurisdiction_Data['County_Area']\n",
    "        FFX_df = FFX_Data['County_Area']\n",
    "    elif Metric.value == 'County_Area_Imp':\n",
    "        VDOT_df = VDOT_Data['County_Area_Imp']\n",
    "        VDOT_FFX_df = VDOT_FFX_Data['County_Area_Imp']\n",
    "        Private_df = Private_Data['County_Area_Imp']\n",
    "        Other_Jurisdiction_df = Other_Jurisdiction_Data['County_Area_Imp']\n",
    "        FFX_df = FFX_Data['County_Area_Imp'] \n",
    "    else:\n",
    "        VDOT_df = VDOT_Data['Treated_Acres']\n",
    "        VDOT_FFX_df = VDOT_FFX_Data['Treated_Acres']\n",
    "        Private_df = Private_Data['Treated_Acres']\n",
    "        Other_Jurisdiction_df = Other_Jurisdiction_Data['Treated_Acres']\n",
    "        FFX_df = FFX_Data['Treated_Acres']   \n",
    "    x1 = VDOT_df\n",
    "    x2 = VDOT_FFX_df\n",
    "    x3 = Private_df\n",
    "    x4 = Other_Jurisdiction_df\n",
    "    x5 = FFX_df\n",
    "    with h.batch_update():\n",
    "        h.data[0].x = x1\n",
    "        h.data[1].x = x2\n",
    "        h.data[2].x = x3\n",
    "        h.data[3].x = x4\n",
    "        h.data[4].x = x5\n",
    "        h.layout.barmode = 'overlay'\n",
    "        h.layout.xaxis.title = 'Metric'\n",
    "        h.layout.yaxis.title = 'Number of Drainage Areas'\n",
    "\n",
    "Metric.observe(response, names=\"value\")"
   ]
  },
  {
   "cell_type": "code",
   "execution_count": 24,
   "metadata": {},
   "outputs": [
    {
     "data": {
      "application/vnd.jupyter.widget-view+json": {
       "model_id": "9e42f356268b4f5b937b3342a5173d7c",
       "version_major": 2,
       "version_minor": 0
      },
      "text/plain": [
       "VBox(children=(Dropdown(description='Metric:', index=3, options=('Tot_Acres', 'Imp_Acres', 'ROW_Acres', 'Easem…"
      ]
     },
     "metadata": {},
     "output_type": "display_data"
    }
   ],
   "source": [
    "widgets.VBox([Metric, h])"
   ]
  }
 ],
 "metadata": {
  "kernelspec": {
   "display_name": "Python 3",
   "language": "python",
   "name": "python3"
  },
  "language_info": {
   "codemirror_mode": {
    "name": "ipython",
    "version": 3
   },
   "file_extension": ".py",
   "mimetype": "text/x-python",
   "name": "python",
   "nbconvert_exporter": "python",
   "pygments_lexer": "ipython3",
   "version": "3.8.5"
  }
 },
 "nbformat": 4,
 "nbformat_minor": 4
}
